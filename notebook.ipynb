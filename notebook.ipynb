{
 "cells": [
  {
   "cell_type": "markdown",
   "id": "hollywood-therapy",
   "metadata": {
    "deletable": false,
    "editable": false
   },
   "source": [
    "# 約維安計畫：Python 技巧\n",
    "\n",
    "> 第十九週。\n",
    "\n",
    "[數據交點](https://www.datainpoint.com) | 郭耀仁 <yaojenkuo@datainpoint.com>\n",
    "\n",
    "![](https://media.giphy.com/media/3ofT5EqIg7gLX1m1y0/giphy.gif)\n",
    "\n",
    "來源：<https://media.giphy.com/media/3ofT5EqIg7gLX1m1y0/giphy.gif>"
   ]
  },
  {
   "cell_type": "code",
   "execution_count": 1,
   "id": "confused-terry",
   "metadata": {},
   "outputs": [],
   "source": [
    "import csv\n",
    "import json"
   ]
  },
  {
   "cell_type": "markdown",
   "id": "republican-seminar",
   "metadata": {},
   "source": [
    "我們從[約維安計畫：Python 的資料型別](https://datainpoint.substack.com/p/week-thirteen-functions-and-data-types-in-python)一直到[約維安計畫：Python 的模組](https://datainpoint.substack.com/p/week-eighteen-modules-in-python)介紹並且討論了學習任何一個程式語言必要的主題：資料型別、資料結構、流程控制以及程式碼組織機制，本篇文章會簡介幾個 Python 使用者常會遭遇到的技巧，透過它們可以撰寫更簡潔且有效率的程式碼，為學習 Python 基礎程式設計能力階段畫下完美的句點，這些技巧包括：Comprehensions、生成器、具有生成器特性的內建函數以及讀取檔案。\n",
    "\n",
    "## Comprehensions\n",
    "\n",
    "Comprehensions 目前還沒有一致的中文翻譯，常見的中文翻譯有解析式、生成式、建構以及理解，這種情況我比較傾向直接使用原本的英文名詞，Comprehensions 指的是依賴序列來建立資料結構的一種語法，在 Python 2 推出了 List comprehension，亦即透過序列來建立串列（`list`），在 Python 3 除了同樣有 List comprehension 之外，也新增了 Dictionary comprehension 以及 Set comprehension，亦即透過序列來建立字典（`dict`）以及集合（`set`）。\n",
    "\n",
    "首先我們回顧傳統透過序列來建立串列的方式，在走訪這個序列之前先建立一個長度為零、空的串列，然後在走訪過程中一一將想要存放的元素透過串列的 `append()` 方法添加。"
   ]
  },
  {
   "cell_type": "code",
   "execution_count": 2,
   "id": "colored-canon",
   "metadata": {},
   "outputs": [
    {
     "name": "stdout",
     "output_type": "stream",
     "text": [
      "[4, 9, 25, 49, 121]\n"
     ]
    }
   ],
   "source": [
    "primes = [2, 3, 5, 7, 11]\n",
    "squared_primes = []\n",
    "for p in primes:\n",
    "    squared_primes.append(p**2)\n",
    "print(squared_primes)"
   ]
  },
  {
   "cell_type": "markdown",
   "id": "noticed-lotus",
   "metadata": {},
   "source": [
    "如果是採取 List comprehension 的語法，我們可以透過所謂的 Python 一列程式（Python one-liner）將建立串列與走訪序列兩個步驟合而為一。"
   ]
  },
  {
   "cell_type": "code",
   "execution_count": 3,
   "id": "mediterranean-unemployment",
   "metadata": {},
   "outputs": [
    {
     "name": "stdout",
     "output_type": "stream",
     "text": [
      "[4, 9, 25, 49, 121]\n"
     ]
    }
   ],
   "source": [
    "primes = [2, 3, 5, 7, 11]\n",
    "squared_primes = [p**2 for p in primes] # list comprehension\n",
    "print(squared_primes)"
   ]
  },
  {
   "cell_type": "markdown",
   "id": "improving-university",
   "metadata": {},
   "source": [
    "假使在走訪過程中有條件判斷的需求，傳統透過序列來建立串列的方式必須在迴圈的程式區塊下再新增一個 `if` 敘述的程式區塊，如此一來就會有兩層的縮排、兩個程式區塊。"
   ]
  },
  {
   "cell_type": "code",
   "execution_count": 4,
   "id": "superb-blast",
   "metadata": {},
   "outputs": [
    {
     "name": "stdout",
     "output_type": "stream",
     "text": [
      "[9, 25, 49, 121]\n"
     ]
    }
   ],
   "source": [
    "primes = [2, 3, 5, 7, 11]\n",
    "squared_odd_primes = []\n",
    "for p in primes:\n",
    "    if p % 2 == 1:\n",
    "        squared_odd_primes.append(p**2)\n",
    "print(squared_odd_primes)"
   ]
  },
  {
   "cell_type": "markdown",
   "id": "ordered-dating",
   "metadata": {},
   "source": [
    "若是採取 List comprehension 的寫法，可以進一步將建立串列、走訪序列以及條件判斷三個步驟合而為一。"
   ]
  },
  {
   "cell_type": "code",
   "execution_count": 5,
   "id": "vanilla-aircraft",
   "metadata": {},
   "outputs": [
    {
     "name": "stdout",
     "output_type": "stream",
     "text": [
      "[9, 25, 49, 121]\n"
     ]
    }
   ],
   "source": [
    "primes = [2, 3, 5, 7, 11]\n",
    "squared_odd_primes = [p**2 for p in primes if p % 2 == 1] # list comprehension\n",
    "print(squared_odd_primes)"
   ]
  },
  {
   "cell_type": "markdown",
   "id": "conservative-judge",
   "metadata": {},
   "source": [
    "除了能容納 `if` 敘述，更可以延伸為 `if-else` 敘述，傳統透過序列來建立串列的方式必須在迴圈的程式區塊下再新增一個 `if-else` 敘述的程式區塊，如此一來就會有兩層的縮排、三個程式區塊。"
   ]
  },
  {
   "cell_type": "code",
   "execution_count": 6,
   "id": "raised-employment",
   "metadata": {},
   "outputs": [
    {
     "name": "stdout",
     "output_type": "stream",
     "text": [
      "[True, False, False, False, False]\n"
     ]
    }
   ],
   "source": [
    "primes = [2, 3, 5, 7, 11]\n",
    "is_even_primes = []\n",
    "for p in primes:\n",
    "    if p % 2 == 0:\n",
    "        is_even_primes.append(True)\n",
    "    else:\n",
    "        is_even_primes.append(False)\n",
    "print(is_even_primes)"
   ]
  },
  {
   "cell_type": "markdown",
   "id": "crazy-veteran",
   "metadata": {},
   "source": [
    "若是採取 List comprehension 的寫法，同樣可以進一步將建立串列、走訪序列以及條件判斷三個步驟合而為一。"
   ]
  },
  {
   "cell_type": "code",
   "execution_count": 7,
   "id": "continuing-implementation",
   "metadata": {},
   "outputs": [
    {
     "name": "stdout",
     "output_type": "stream",
     "text": [
      "[True, False, False, False, False]\n"
     ]
    }
   ],
   "source": [
    "primes = [2, 3, 5, 7, 11]\n",
    "is_even_primes = [True if p % 2 == 0 else False for p in primes] # list comprehension\n",
    "print(is_even_primes)"
   ]
  },
  {
   "cell_type": "markdown",
   "id": "subsequent-joint",
   "metadata": {},
   "source": [
    "兩相對比之下，假設在走訪過程中有 `if-else` 敘述的設計，改寫為 List comprehension 可以將六列程式碼壓縮為一列，程式碼精簡的成果十分可觀。\n",
    "\n",
    "同樣的寫法，也可以更改為 Set comprehension 與 Dict comprehension 以一列程式碼透過序列建立集合與字典。"
   ]
  },
  {
   "cell_type": "code",
   "execution_count": 8,
   "id": "threaded-cherry",
   "metadata": {},
   "outputs": [
    {
     "name": "stdout",
     "output_type": "stream",
     "text": [
      "{4, 9, 49, 121, 25}\n",
      "<class 'set'>\n",
      "{2: 4, 3: 9, 5: 25, 7: 49, 11: 121}\n",
      "<class 'dict'>\n"
     ]
    }
   ],
   "source": [
    "primes = [2, 3, 5, 7, 11]\n",
    "squared_primes = {p**2 for p in primes} # set comprehension\n",
    "print(squared_primes)\n",
    "print(type(squared_primes))\n",
    "squared_primes = {p: p**2 for p in primes} # dict comprehension\n",
    "print(squared_primes)\n",
    "print(type(squared_primes))"
   ]
  },
  {
   "cell_type": "markdown",
   "id": "thousand-paper",
   "metadata": {},
   "source": [
    "到這裡，中級約維安可能會產生一個疑問：為什麼有 List、Set 與 Dictionary comprehensions，獨缺了 Tuple comprehension？於是將 Comprehension 的寫法改為了小括號嘗試看看。"
   ]
  },
  {
   "cell_type": "code",
   "execution_count": 9,
   "id": "relevant-queensland",
   "metadata": {},
   "outputs": [
    {
     "name": "stdout",
     "output_type": "stream",
     "text": [
      "<generator object <genexpr> at 0x7f927a4657b0>\n",
      "<class 'generator'>\n"
     ]
    }
   ],
   "source": [
    "primes = [2, 3, 5, 7, 11]\n",
    "squared_primes = (p**2 for p in primes)\n",
    "print(squared_primes)\n",
    "print(type(squared_primes))"
   ]
  },
  {
   "cell_type": "markdown",
   "id": "ceramic-delaware",
   "metadata": {},
   "source": [
    "沒有 Tuple comprehension 的原因是這個寫法得到了稱為生成器（Generators）的類別，也是本篇文章會涵蓋的第二個技巧。\n",
    "\n",
    "## 生成器\n",
    "\n",
    "生成器（Generators）是與 Comprehensions 相似的觀念，都是透過序列來生成資料的機制，不同的地方在於 Comprehensions 所產出的資料結構中儲存的是「資料值」，生成器則是儲存「資料值的生成規則」，這樣子的「資料值生成規則」必須要經過實例化才能將資料值儲存到資料結構中，就如同自行定義好類別中的資料與函數之後，必須透過一個物件作為該類別的實例，才可以使用物件的屬性與方法。若是以料理來比喻，Comprehensions 的輸出是最後端上桌的菜餚，而生成器的輸出則是菜餚的食譜。\n",
    "\n",
    "那麼該如何「實例化」生成器類別為資料結構的物件呢？我們可以指定用 `list()` 函數或 `tuple()` 函數等將生成器類別化作串列或 Tuple。"
   ]
  },
  {
   "cell_type": "markdown",
   "id": "flying-rubber",
   "metadata": {},
   "source": [
    "primes = [2, 3, 5, 7, 11]\n",
    "squared_primes = (p**2 for p in primes)\n",
    "print(list(squared_primes))  # instantiate as a list\n",
    "squared_primes = (p**2 for p in primes)\n",
    "print(tuple(squared_primes)) # instantiate as a tuple"
   ]
  },
  {
   "cell_type": "markdown",
   "id": "earlier-richmond",
   "metadata": {},
   "source": [
    "生成器類別相較於 Comprehensions 具有儲存的效率優勢，關於這一點或許很抽象，但我們可以從它僅能夠被實例化一次的特性中觀察出這個優勢，嘗試第二次實例化生成器類別就會發現得到一個空的（長度為零）資料結構，表示「資料值生成規則」已經被刪除。"
   ]
  },
  {
   "cell_type": "code",
   "execution_count": 10,
   "id": "recognized-catering",
   "metadata": {},
   "outputs": [
    {
     "name": "stdout",
     "output_type": "stream",
     "text": [
      "[4, 9, 25, 49, 121]\n",
      "()\n"
     ]
    }
   ],
   "source": [
    "primes = [2, 3, 5, 7, 11]\n",
    "squared_primes = (p**2 for p in primes)\n",
    "print(list(squared_primes))  # instantiate as a list\n",
    "print(tuple(squared_primes)) # empty tuple"
   ]
  },
  {
   "cell_type": "markdown",
   "id": "accepted-southwest",
   "metadata": {},
   "source": [
    "## 具有生成器特性的內建函數\n",
    "\n",
    "為什麼除了 Comprehensions 以外我們還要認識生成器這個技巧呢？在沒有空間或者時間的資源限制下，是否有必要多暸解這個不是太具體的觀念來混淆自己呢？其實，如果生成器類別並不是那麼常見，我自己認為這個技巧是可以暫時略過的，但是因為有不少方便且好用的內建函數輸出具備了生成器類別特性，認識生成器就變得不可或缺。具體來說有兩類的內建函數：迭代器函數（Iterator functions）與函數型函數（Functional functions），其中迭代器函數包含 `enumerate()` 函數以及 `zip()` 函數，函數型函數包含 `map()` 函數與 `filter()` 函數。\n",
    "\n",
    "迭代器函數：\n",
    "\n",
    "- `enumerate()` 函數，能夠讓迴圈同時走訪序列的「索引值」與「資料值」，回傳會是 `enumerate` 類別的實例。\n",
    "- `zip()` 函數，能夠讓迴圈同時走訪多個序列的「資料值」，回傳會是 `zip` 類別的實例。"
   ]
  },
  {
   "cell_type": "code",
   "execution_count": 11,
   "id": "deluxe-institute",
   "metadata": {},
   "outputs": [
    {
     "name": "stdout",
     "output_type": "stream",
     "text": [
      "<enumerate object at 0x7f927a474c00>\n",
      "[(0, 2), (1, 3), (2, 5), (3, 7), (4, 11)]\n",
      "[]\n",
      "<zip object at 0x7f927a474f80>\n",
      "[(2, 1), (3, 3), (5, 5), (7, 7), (11, 9)]\n",
      "[]\n"
     ]
    }
   ],
   "source": [
    "primes = [2, 3, 5, 7, 11]\n",
    "odds = [1, 3, 5, 7, 9]\n",
    "enum = enumerate(primes)\n",
    "zipped = zip(primes, odds)\n",
    "print(enum)\n",
    "print(list(enum))\n",
    "print(list(enum))   # empty list\n",
    "print(zipped)\n",
    "print(list(zipped))\n",
    "print(list(zipped)) # empty list"
   ]
  },
  {
   "cell_type": "markdown",
   "id": "nonprofit-mason",
   "metadata": {},
   "source": [
    "函數型函數：\n",
    "\n",
    "- `map()` 函數，逐次把序列中的「資料值」當作參數傳給輸入的函數，回傳會是 `map` 類別的實例。\n",
    "- `filter()` 函數，逐次把序列中的「資料值」當作參數傳給輸入的函數，保留函數回傳值為 `True` 的輸出，回傳會是 `filter` 類別的實例。"
   ]
  },
  {
   "cell_type": "code",
   "execution_count": 12,
   "id": "illegal-thanks",
   "metadata": {},
   "outputs": [
    {
     "name": "stdout",
     "output_type": "stream",
     "text": [
      "<map object at 0x7f927a49e760>\n",
      "[4, 9, 25, 49, 121]\n",
      "[]\n",
      "<filter object at 0x7f927a49e0a0>\n",
      "[3, 5, 7, 11]\n",
      "[]\n"
     ]
    }
   ],
   "source": [
    "def squared(x):\n",
    "    return x**2\n",
    "def is_odd(x):\n",
    "    return x % 2 == 1\n",
    "primes = [2, 3, 5, 7, 11]\n",
    "mapped = map(squared, primes)\n",
    "filtered = filter(is_odd, primes)\n",
    "print(mapped)\n",
    "print(list(mapped))\n",
    "print(list(mapped))   # empty list\n",
    "print(filtered)\n",
    "print(list(filtered))\n",
    "print(list(filtered)) # empty list"
   ]
  },
  {
   "cell_type": "markdown",
   "id": "fifteen-finder",
   "metadata": {},
   "source": [
    "前述不論是 `enumerate` 類別的實例、`zip` 類別的實例、`map` 類別的實例或 `filter` 類別的實例，都是具有生成器特性的類別，意即都需要實例化才能夠成為有儲存資料值的資料結構。\n",
    "\n",
    "使用函數型函數的時候，假如作為輸入的函數操作是簡單的邏輯，例如前述的 `squared()` 函數以及 `is_odd()` 函數，Python 使用者更習慣是將其寫作為 lambda 函數的結構， lambda 函數也稱為「匿名函數」，不同於使用 def 語法定義函數，可以在搭配函數型函數的情況下「同時」定義與使用。"
   ]
  },
  {
   "cell_type": "code",
   "execution_count": 13,
   "id": "complicated-recipe",
   "metadata": {},
   "outputs": [
    {
     "name": "stdout",
     "output_type": "stream",
     "text": [
      "[4, 9, 25, 49, 121]\n",
      "[3, 5, 7, 11]\n"
     ]
    }
   ],
   "source": [
    "primes = [2, 3, 5, 7, 11]\n",
    "print(list(map(lambda x: x**2, primes)))\n",
    "print(list(filter(lambda x: x % 2 == 1, primes)))"
   ]
  },
  {
   "cell_type": "markdown",
   "id": "danish-picking",
   "metadata": {},
   "source": [
    "## 讀取檔案\n",
    "\n",
    "面對副檔名為 txt、csv 或者 json 的純文字檔案，透過 Python 的 with 語法，程式會自動進行檔案相關資源的建立、清理與回收，在 with 語法架構下使用內建函數 `open(file_path, \"r\")` 建立檔案物件，就可以讓使用者輕鬆地在有資源管理的前提下進行檔案的讀取，而不會有檔案被鎖定或者錯誤的情況。\n",
    "\n",
    "副檔名為 txt 的純文字檔案，可以用檔案物件的 `readlines()` 方法將檔案內容一列一列（row-by-row）讀入成為串列中的元素。"
   ]
  },
  {
   "cell_type": "code",
   "execution_count": 14,
   "id": "given-piano",
   "metadata": {},
   "outputs": [
    {
     "name": "stdout",
     "output_type": "stream",
     "text": [
      "Two imprisoned men bond over a number of years, finding solace and eventual redemption through acts of common decency.\n",
      "\n",
      "Chronicles the experiences of a formerly successful banker as a prisoner in the gloomy jailhouse of Shawshank after being found guilty of a crime he did not commit. The film portrays the man's unique way of dealing with his new, torturous life; along the way he befriends a number of fellow prisoners, most notably a wise long-term inmate named Red.\n",
      "\n",
      "After the murder of his wife, hotshot banker Andrew Dufresne is sent to Shawshank Prison, where the usual unpleasantness occurs. Over the years, he retains hope and eventually gains the respect of his fellow inmates, especially longtime convict \"Red\" Redding, a black marketeer, and becomes influential within the prison. Eventually, Andrew achieves his ends on his own terms.\n",
      "\n",
      "Andy Dufresne is sent to Shawshank Prison for the murder of his wife and her secret lover. He is very isolated and lonely at first, but realizes there is something deep inside your body that people can't touch or get to....'HOPE'. Andy becomes friends with prison 'fixer' Red, and Andy epitomizes why it is crucial to have dreams. His spirit and determination lead us into a world full of imagination, one filled with courage and desire. Will Andy ever realize his dreams?\n",
      "\n",
      "Bank Merchant Andy Dufresne is convicted of the murder of his wife and her lover, and sentenced to life imprisonment at Shawshank prison. Life seems to have taken a turn for the worse, but fortunately Andy befriends some of the other inmates, in particular a character known only as Red. Over time Andy finds ways to live out life with relative ease as one can in a prison, leaving a message for all that while the body may be locked away in a cell, the spirit can never be truly imprisoned.\n"
     ]
    }
   ],
   "source": [
    "with open(\"the_shawshank_redemption_summaries.txt\", \"r\") as file:\n",
    "    the_shawshank_redemption_summaries = file.readlines()\n",
    "for e in the_shawshank_redemption_summaries:\n",
    "    print(e)"
   ]
  },
  {
   "cell_type": "markdown",
   "id": "criminal-healthcare",
   "metadata": {},
   "source": [
    "副檔名為 csv 的純文字檔案，可以用標準模組 `csv` 的 `DictReader` 類別將 csv 檔案的每一列讀入成為一個以欄位名稱作為鍵（Keys）、觀測值內容作為值（Values）的字典。"
   ]
  },
  {
   "cell_type": "code",
   "execution_count": 15,
   "id": "removed-least",
   "metadata": {},
   "outputs": [
    {
     "name": "stdout",
     "output_type": "stream",
     "text": [
      "{'rank': '1', 'title': 'The Shawshank Redemption', 'year': '1994', 'rating': '9.2'}\n",
      "{'rank': '2', 'title': 'The Godfather', 'year': '1972', 'rating': '9.1'}\n",
      "{'rank': '3', 'title': 'The Godfather: Part II', 'year': '1974', 'rating': '9.0'}\n",
      "{'rank': '4', 'title': 'The Dark Knight', 'year': '2008', 'rating': '9.0'}\n",
      "{'rank': '5', 'title': '12 Angry Men', 'year': '1957', 'rating': '8.9'}\n",
      "{'rank': '6', 'title': \"Schindler's List\", 'year': '1993', 'rating': '8.9'}\n",
      "{'rank': '7', 'title': 'The Lord of the Rings: The Return of the King', 'year': '2003', 'rating': '8.9'}\n",
      "{'rank': '8', 'title': 'Pulp Fiction', 'year': '1994', 'rating': '8.8'}\n",
      "{'rank': '9', 'title': 'The Good, the Bad and the Ugly', 'year': '1966', 'rating': '8.8'}\n",
      "{'rank': '10', 'title': 'The Lord of the Rings: The Fellowship of the Ring', 'year': '2001', 'rating': '8.8'}\n",
      "{'rank': '11', 'title': 'Fight Club', 'year': '1999', 'rating': '8.8'}\n",
      "{'rank': '12', 'title': 'Forrest Gump', 'year': '1994', 'rating': '8.7'}\n",
      "{'rank': '13', 'title': 'Inception', 'year': '2010', 'rating': '8.7'}\n",
      "{'rank': '14', 'title': 'The Lord of the Rings: The Two Towers', 'year': '2002', 'rating': '8.7'}\n",
      "{'rank': '15', 'title': 'Star Wars: Episode V - The Empire Strikes Back', 'year': '1980', 'rating': '8.7'}\n",
      "{'rank': '16', 'title': 'The Matrix', 'year': '1999', 'rating': '8.6'}\n",
      "{'rank': '17', 'title': 'Goodfellas', 'year': '1990', 'rating': '8.6'}\n",
      "{'rank': '18', 'title': \"One Flew Over the Cuckoo's Nest\", 'year': '1975', 'rating': '8.6'}\n",
      "{'rank': '19', 'title': 'Seven Samurai', 'year': '1954', 'rating': '8.6'}\n",
      "{'rank': '20', 'title': 'Se7en', 'year': '1995', 'rating': '8.6'}\n",
      "{'rank': '21', 'title': 'The Silence of the Lambs', 'year': '1991', 'rating': '8.6'}\n",
      "{'rank': '22', 'title': 'City of God', 'year': '2002', 'rating': '8.6'}\n",
      "{'rank': '23', 'title': 'Life Is Beautiful', 'year': '1997', 'rating': '8.6'}\n",
      "{'rank': '24', 'title': \"It's a Wonderful Life\", 'year': '1946', 'rating': '8.6'}\n",
      "{'rank': '25', 'title': 'Star Wars: Episode IV - A New Hope', 'year': '1977', 'rating': '8.6'}\n",
      "{'rank': '26', 'title': 'Saving Private Ryan', 'year': '1998', 'rating': '8.5'}\n",
      "{'rank': '27', 'title': 'Interstellar', 'year': '2014', 'rating': '8.5'}\n",
      "{'rank': '28', 'title': 'Spirited Away', 'year': '2001', 'rating': '8.5'}\n",
      "{'rank': '29', 'title': 'The Green Mile', 'year': '1999', 'rating': '8.5'}\n",
      "{'rank': '30', 'title': 'Parasite', 'year': '2019', 'rating': '8.5'}\n",
      "{'rank': '31', 'title': 'Léon: The Professional', 'year': '1994', 'rating': '8.5'}\n",
      "{'rank': '32', 'title': 'Hara-Kiri', 'year': '1962', 'rating': '8.5'}\n",
      "{'rank': '33', 'title': 'The Pianist', 'year': '2002', 'rating': '8.5'}\n",
      "{'rank': '34', 'title': 'The Usual Suspects', 'year': '1995', 'rating': '8.5'}\n",
      "{'rank': '35', 'title': 'Terminator 2: Judgment Day', 'year': '1991', 'rating': '8.5'}\n",
      "{'rank': '36', 'title': 'Back to the Future', 'year': '1985', 'rating': '8.5'}\n",
      "{'rank': '37', 'title': 'Psycho', 'year': '1960', 'rating': '8.5'}\n",
      "{'rank': '38', 'title': 'The Lion King', 'year': '1994', 'rating': '8.5'}\n",
      "{'rank': '39', 'title': 'Modern Times', 'year': '1936', 'rating': '8.5'}\n",
      "{'rank': '40', 'title': 'American History X', 'year': '1998', 'rating': '8.5'}\n",
      "{'rank': '41', 'title': 'City Lights', 'year': '1931', 'rating': '8.5'}\n",
      "{'rank': '42', 'title': 'Grave of the Fireflies', 'year': '1988', 'rating': '8.5'}\n",
      "{'rank': '43', 'title': 'Whiplash', 'year': '2014', 'rating': '8.5'}\n",
      "{'rank': '44', 'title': 'Gladiator', 'year': '2000', 'rating': '8.5'}\n",
      "{'rank': '45', 'title': 'The Departed', 'year': '2006', 'rating': '8.5'}\n",
      "{'rank': '46', 'title': 'The Intouchables', 'year': '2011', 'rating': '8.5'}\n",
      "{'rank': '47', 'title': 'The Prestige', 'year': '2006', 'rating': '8.5'}\n",
      "{'rank': '48', 'title': 'Casablanca', 'year': '1942', 'rating': '8.4'}\n",
      "{'rank': '49', 'title': 'Once Upon a Time in the West', 'year': '1968', 'rating': '8.4'}\n",
      "{'rank': '50', 'title': 'Rear Window', 'year': '1954', 'rating': '8.4'}\n",
      "{'rank': '51', 'title': 'Cinema Paradiso', 'year': '1988', 'rating': '8.4'}\n",
      "{'rank': '52', 'title': 'Alien', 'year': '1979', 'rating': '8.4'}\n",
      "{'rank': '53', 'title': 'Apocalypse Now', 'year': '1979', 'rating': '8.4'}\n",
      "{'rank': '54', 'title': 'Memento', 'year': '2000', 'rating': '8.4'}\n",
      "{'rank': '55', 'title': 'Indiana Jones and the Raiders of the Lost Ark', 'year': '1981', 'rating': '8.4'}\n",
      "{'rank': '56', 'title': 'The Great Dictator', 'year': '1940', 'rating': '8.4'}\n",
      "{'rank': '57', 'title': 'The Lives of Others', 'year': '2006', 'rating': '8.4'}\n",
      "{'rank': '58', 'title': 'Django Unchained', 'year': '2012', 'rating': '8.4'}\n",
      "{'rank': '59', 'title': 'Paths of Glory', 'year': '1957', 'rating': '8.4'}\n",
      "{'rank': '60', 'title': '', 'year': '1950', 'rating': '8.4'}\n",
      "{'rank': '61', 'title': 'WALL·E', 'year': '2008', 'rating': '8.4'}\n",
      "{'rank': '62', 'title': 'Avengers: Infinity War', 'year': '2018', 'rating': '8.4'}\n",
      "{'rank': '63', 'title': 'The Shining', 'year': '1980', 'rating': '8.4'}\n",
      "{'rank': '64', 'title': 'Witness for the Prosecution', 'year': '1957', 'rating': '8.4'}\n",
      "{'rank': '65', 'title': 'Spider-Man: Into the Spider-Verse', 'year': '2018', 'rating': '8.4'}\n",
      "{'rank': '66', 'title': 'Strangelove or: How I Learned to Stop Worrying and Love the Bomb ', 'year': '1964', 'rating': '8.4'}\n",
      "{'rank': '67', 'title': 'Joker', 'year': '2019', 'rating': '8.3'}\n",
      "{'rank': '68', 'title': 'Princess Mononoke', 'year': '1997', 'rating': '8.3'}\n",
      "{'rank': '69', 'title': 'Oldboy', 'year': '2003', 'rating': '8.3'}\n",
      "{'rank': '70', 'title': '', 'year': '2016', 'rating': '8.3'}\n",
      "{'rank': '71', 'title': 'The Dark Knight Rises', 'year': '2012', 'rating': '8.3'}\n",
      "{'rank': '72', 'title': 'Once Upon a Time in America', 'year': '1984', 'rating': '8.3'}\n",
      "{'rank': '73', 'title': 'Coco', 'year': '2017', 'rating': '8.3'}\n",
      "{'rank': '74', 'title': 'Aliens', 'year': '1986', 'rating': '8.3'}\n",
      "{'rank': '75', 'title': 'Capharnaüm', 'year': '2018', 'rating': '8.3'}\n",
      "{'rank': '76', 'title': 'Avengers: Endgame', 'year': '2019', 'rating': '8.3'}\n",
      "{'rank': '77', 'title': 'Das Boot', 'year': '1981', 'rating': '8.3'}\n",
      "{'rank': '78', 'title': 'Hamilton', 'year': '2020', 'rating': '8.3'}\n",
      "{'rank': '79', 'title': 'High and Low', 'year': '1963', 'rating': '8.3'}\n",
      "{'rank': '80', 'title': 'American Beauty', 'year': '1999', 'rating': '8.3'}\n",
      "{'rank': '81', 'title': 'Toy Story', 'year': '1995', 'rating': '8.3'}\n",
      "{'rank': '82', 'title': '3 Idiots', 'year': '2009', 'rating': '8.3'}\n",
      "{'rank': '83', 'title': 'Amadeus', 'year': '1984', 'rating': '8.3'}\n",
      "{'rank': '84', 'title': 'Braveheart', 'year': '1995', 'rating': '8.3'}\n",
      "{'rank': '85', 'title': 'Inglourious Basterds', 'year': '2009', 'rating': '8.3'}\n",
      "{'rank': '86', 'title': 'Good Will Hunting', 'year': '1997', 'rating': '8.3'}\n",
      "{'rank': '87', 'title': 'Star Wars: Episode VI - Return of the Jedi', 'year': '1983', 'rating': '8.3'}\n",
      "{'rank': '88', 'title': '2001: A Space Odyssey', 'year': '1968', 'rating': '8.3'}\n",
      "{'rank': '89', 'title': 'Reservoir Dogs', 'year': '1992', 'rating': '8.3'}\n",
      "{'rank': '90', 'title': 'M', 'year': '1931', 'rating': '8.3'}\n",
      "{'rank': '91', 'title': 'Like Stars on Earth', 'year': '2007', 'rating': '8.3'}\n",
      "{'rank': '92', 'title': 'Vertigo', 'year': '1958', 'rating': '8.3'}\n",
      "{'rank': '93', 'title': 'Citizen Kane', 'year': '1941', 'rating': '8.3'}\n",
      "{'rank': '94', 'title': 'Come and See', 'year': '1985', 'rating': '8.3'}\n",
      "{'rank': '95', 'title': 'The Hunt', 'year': '2012', 'rating': '8.3'}\n",
      "{'rank': '96', 'title': 'Requiem for a Dream', 'year': '2000', 'rating': '8.3'}\n",
      "{'rank': '97', 'title': \"Singin' in the Rain\", 'year': '1952', 'rating': '8.3'}\n",
      "{'rank': '98', 'title': 'North by Northwest', 'year': '1959', 'rating': '8.3'}\n",
      "{'rank': '99', 'title': 'Eternal Sunshine of the Spotless Mind', 'year': '2004', 'rating': '8.3'}\n",
      "{'rank': '100', 'title': 'Bicycle Thieves', 'year': '1948', 'rating': '8.3'}\n",
      "{'rank': '101', 'title': 'Ikiru', 'year': '1952', 'rating': '8.3'}\n",
      "{'rank': '102', 'title': 'Dune', 'year': '2021', 'rating': '8.3'}\n",
      "{'rank': '103', 'title': 'Pather Panchali', 'year': '1955', 'rating': '8.3'}\n",
      "{'rank': '104', 'title': 'Lawrence of Arabia', 'year': '1962', 'rating': '8.2'}\n",
      "{'rank': '105', 'title': 'The Kid', 'year': '1921', 'rating': '8.2'}\n",
      "{'rank': '106', 'title': 'Full Metal Jacket', 'year': '1987', 'rating': '8.2'}\n",
      "{'rank': '107', 'title': 'Dangal', 'year': '2016', 'rating': '8.2'}\n",
      "{'rank': '108', 'title': 'The Father', 'year': '2020', 'rating': '8.2'}\n",
      "{'rank': '109', 'title': 'The Apartment', 'year': '1960', 'rating': '8.2'}\n",
      "{'rank': '110', 'title': 'A Clockwork Orange', 'year': '1971', 'rating': '8.2'}\n",
      "{'rank': '111', 'title': 'Metropolis', 'year': '1927', 'rating': '8.2'}\n",
      "{'rank': '112', 'title': 'Taxi Driver', 'year': '1976', 'rating': '8.2'}\n",
      "{'rank': '113', 'title': 'Incendies', 'year': '2010', 'rating': '8.2'}\n",
      "{'rank': '114', 'title': 'Double Indemnity', 'year': '1944', 'rating': '8.2'}\n",
      "{'rank': '115', 'title': 'The Sting', 'year': '1973', 'rating': '8.2'}\n",
      "{'rank': '116', 'title': 'A Separation', 'year': '2011', 'rating': '8.2'}\n",
      "{'rank': '117', 'title': 'Scarface', 'year': '1983', 'rating': '8.2'}\n",
      "{'rank': '118', 'title': '1917', 'year': '2019', 'rating': '8.2'}\n",
      "{'rank': '119', 'title': 'Snatch', 'year': '2000', 'rating': '8.2'}\n",
      "{'rank': '120', 'title': 'Amélie', 'year': '2001', 'rating': '8.2'}\n",
      "{'rank': '121', 'title': 'Toy Story 3', 'year': '2010', 'rating': '8.2'}\n",
      "{'rank': '122', 'title': 'To Kill a Mockingbird', 'year': '1962', 'rating': '8.2'}\n",
      "{'rank': '123', 'title': 'For a Few Dollars More', 'year': '1965', 'rating': '8.2'}\n",
      "{'rank': '124', 'title': 'Up', 'year': '2009', 'rating': '8.2'}\n",
      "{'rank': '125', 'title': 'Indiana Jones and the Last Crusade', 'year': '1989', 'rating': '8.2'}\n",
      "{'rank': '126', 'title': 'Confidential ', 'year': '1997', 'rating': '8.2'}\n",
      "{'rank': '127', 'title': 'Heat', 'year': '1995', 'rating': '8.2'}\n",
      "{'rank': '128', 'title': 'Yojimbo', 'year': '1961', 'rating': '8.2'}\n",
      "{'rank': '129', 'title': 'Rashomon', 'year': '1950', 'rating': '8.2'}\n",
      "{'rank': '130', 'title': 'Ran', 'year': '1985', 'rating': '8.2'}\n",
      "{'rank': '131', 'title': 'Die Hard', 'year': '1988', 'rating': '8.2'}\n",
      "{'rank': '132', 'title': 'Green Book', 'year': '2018', 'rating': '8.2'}\n",
      "{'rank': '133', 'title': 'Downfall', 'year': '2004', 'rating': '8.2'}\n",
      "{'rank': '134', 'title': 'Monty Python and the Holy Grail', 'year': '1975', 'rating': '8.2'}\n",
      "{'rank': '135', 'title': 'All About Eve', 'year': '1950', 'rating': '8.2'}\n",
      "{'rank': '136', 'title': 'Some Like It Hot', 'year': '1959', 'rating': '8.2'}\n",
      "{'rank': '137', 'title': 'Batman Begins', 'year': '2005', 'rating': '8.2'}\n",
      "{'rank': '138', 'title': 'Unforgiven', 'year': '1992', 'rating': '8.2'}\n",
      "{'rank': '139', 'title': 'Children of Heaven', 'year': '1997', 'rating': '8.2'}\n",
      "{'rank': '140', 'title': \"Howl's Moving Castle\", 'year': '2004', 'rating': '8.2'}\n",
      "{'rank': '141', 'title': 'The Wolf of Wall Street', 'year': '2013', 'rating': '8.2'}\n",
      "{'rank': '142', 'title': 'Judgment at Nuremberg', 'year': '1961', 'rating': '8.2'}\n",
      "{'rank': '143', 'title': 'The Great Escape', 'year': '1963', 'rating': '8.2'}\n",
      "{'rank': '144', 'title': 'Casino', 'year': '1995', 'rating': '8.2'}\n",
      "{'rank': '145', 'title': 'There Will Be Blood', 'year': '2007', 'rating': '8.2'}\n",
      "{'rank': '146', 'title': 'The Treasure of the Sierra Madre', 'year': '1948', 'rating': '8.2'}\n",
      "{'rank': '147', 'title': \"Pan's Labyrinth\", 'year': '2006', 'rating': '8.1'}\n",
      "{'rank': '148', 'title': 'A Beautiful Mind', 'year': '2001', 'rating': '8.1'}\n",
      "{'rank': '149', 'title': 'The Secret in Their Eyes', 'year': '2009', 'rating': '8.1'}\n"
     ]
    },
    {
     "name": "stdout",
     "output_type": "stream",
     "text": [
      "{'rank': '150', 'title': 'Raging Bull', 'year': '1980', 'rating': '8.1'}\n",
      "{'rank': '151', 'title': 'My Neighbor Totoro', 'year': '1988', 'rating': '8.1'}\n",
      "{'rank': '152', 'title': 'Chinatown', 'year': '1974', 'rating': '8.1'}\n",
      "{'rank': '153', 'title': 'Lock, Stock and Two Smoking Barrels', 'year': '1998', 'rating': '8.1'}\n",
      "{'rank': '154', 'title': 'The Gold Rush', 'year': '1925', 'rating': '8.1'}\n",
      "{'rank': '155', 'title': 'Shutter Island', 'year': '2010', 'rating': '8.1'}\n",
      "{'rank': '156', 'title': 'No Country for Old Men', 'year': '2007', 'rating': '8.1'}\n",
      "{'rank': '157', 'title': 'Dial M for Murder', 'year': '1954', 'rating': '8.1'}\n",
      "{'rank': '158', 'title': 'The Seventh Seal', 'year': '1957', 'rating': '8.1'}\n",
      "{'rank': '159', 'title': 'Three Billboards Outside Ebbing, Missouri', 'year': '2017', 'rating': '8.1'}\n",
      "{'rank': '160', 'title': 'The Elephant Man', 'year': '1980', 'rating': '8.1'}\n",
      "{'rank': '161', 'title': 'The Thing', 'year': '1982', 'rating': '8.1'}\n",
      "{'rank': '162', 'title': 'The Sixth Sense', 'year': '1999', 'rating': '8.1'}\n",
      "{'rank': '163', 'title': 'Klaus', 'year': '2019', 'rating': '8.1'}\n",
      "{'rank': '164', 'title': 'The Third Man', 'year': '1949', 'rating': '8.1'}\n",
      "{'rank': '165', 'title': 'Wild Strawberries', 'year': '1957', 'rating': '8.1'}\n",
      "{'rank': '166', 'title': 'V for Vendetta', 'year': '2005', 'rating': '8.1'}\n",
      "{'rank': '167', 'title': 'Jurassic Park', 'year': '1993', 'rating': '8.1'}\n",
      "{'rank': '168', 'title': 'The Truman Show', 'year': '1998', 'rating': '8.1'}\n",
      "{'rank': '169', 'title': 'Inside Out', 'year': '2015', 'rating': '8.1'}\n",
      "{'rank': '170', 'title': 'Memories of Murder', 'year': '2003', 'rating': '8.1'}\n",
      "{'rank': '171', 'title': 'Blade Runner', 'year': '1982', 'rating': '8.1'}\n",
      "{'rank': '172', 'title': 'Trainspotting', 'year': '1996', 'rating': '8.1'}\n",
      "{'rank': '173', 'title': 'The Bridge on the River Kwai', 'year': '1957', 'rating': '8.1'}\n",
      "{'rank': '174', 'title': 'Fargo', 'year': '1996', 'rating': '8.1'}\n",
      "{'rank': '175', 'title': 'Warrior', 'year': '2011', 'rating': '8.1'}\n",
      "{'rank': '176', 'title': 'Finding Nemo', 'year': '2003', 'rating': '8.1'}\n",
      "{'rank': '177', 'title': '1 ', 'year': '2003', 'rating': '8.1'}\n",
      "{'rank': '178', 'title': 'Gone with the Wind', 'year': '1939', 'rating': '8.1'}\n",
      "{'rank': '179', 'title': 'Z', 'year': '1969', 'rating': '8.1'}\n",
      "{'rank': '180', 'title': 'Tokyo Story', 'year': '1953', 'rating': '8.1'}\n",
      "{'rank': '181', 'title': 'My Father and My Son', 'year': '2005', 'rating': '8.1'}\n",
      "{'rank': '182', 'title': 'On the Waterfront', 'year': '1954', 'rating': '8.1'}\n",
      "{'rank': '183', 'title': 'Stalker', 'year': '1979', 'rating': '8.1'}\n",
      "{'rank': '184', 'title': 'Wild Tales', 'year': '2014', 'rating': '8.1'}\n",
      "{'rank': '185', 'title': '', 'year': '1924', 'rating': '8.1'}\n",
      "{'rank': '186', 'title': 'The General', 'year': '1926', 'rating': '8.1'}\n",
      "{'rank': '187', 'title': 'The Deer Hunter', 'year': '1978', 'rating': '8.1'}\n",
      "{'rank': '188', 'title': 'Gran Torino', 'year': '2008', 'rating': '8.1'}\n",
      "{'rank': '189', 'title': 'Persona', 'year': '1966', 'rating': '8.1'}\n",
      "{'rank': '190', 'title': 'The Grand Budapest Hotel', 'year': '2014', 'rating': '8.1'}\n",
      "{'rank': '191', 'title': 'Prisoners', 'year': '2013', 'rating': '8.1'}\n",
      "{'rank': '192', 'title': 'Before Sunrise', 'year': '1995', 'rating': '8.1'}\n",
      "{'rank': '193', 'title': 'Mary and Max', 'year': '2009', 'rating': '8.1'}\n",
      "{'rank': '194', 'title': 'Smith Goes to Washington ', 'year': '1939', 'rating': '8.1'}\n",
      "{'rank': '195', 'title': 'Room', 'year': '2015', 'rating': '8.1'}\n",
      "{'rank': '196', 'title': 'In the Name of the Father', 'year': '1993', 'rating': '8.1'}\n",
      "{'rank': '197', 'title': 'Catch Me If You Can', 'year': '2002', 'rating': '8.1'}\n",
      "{'rank': '198', 'title': 'Barry Lyndon', 'year': '1975', 'rating': '8.1'}\n",
      "{'rank': '199', 'title': 'Gone Girl', 'year': '2014', 'rating': '8.1'}\n",
      "{'rank': '200', 'title': 'Hacksaw Ridge', 'year': '2016', 'rating': '8.1'}\n",
      "{'rank': '201', 'title': 'Andhadhun', 'year': '2018', 'rating': '8.1'}\n",
      "{'rank': '202', 'title': 'The Passion of Joan of Arc', 'year': '1928', 'rating': '8.1'}\n",
      "{'rank': '203', 'title': 'To Be or Not to Be', 'year': '1942', 'rating': '8.1'}\n",
      "{'rank': '204', 'title': 'Ford v Ferrari', 'year': '2019', 'rating': '8.1'}\n",
      "{'rank': '205', 'title': '12 Years a Slave', 'year': '2013', 'rating': '8.1'}\n",
      "{'rank': '206', 'title': 'The Big Lebowski', 'year': '1998', 'rating': '8.1'}\n",
      "{'rank': '207', 'title': 'How to Train Your Dragon', 'year': '2010', 'rating': '8.1'}\n",
      "{'rank': '208', 'title': 'Mad Max: Fury Road', 'year': '2015', 'rating': '8.1'}\n",
      "{'rank': '209', 'title': 'Dead Poets Society', 'year': '1989', 'rating': '8.1'}\n",
      "{'rank': '210', 'title': 'Autumn Sonata', 'year': '1978', 'rating': '8.1'}\n",
      "{'rank': '211', 'title': 'Ben-Hur', 'year': '1959', 'rating': '8.1'}\n",
      "{'rank': '212', 'title': 'Million Dollar Baby', 'year': '2004', 'rating': '8.1'}\n",
      "{'rank': '213', 'title': 'The Wages of Fear', 'year': '1953', 'rating': '8.1'}\n",
      "{'rank': '214', 'title': 'Harry Potter and the Deathly Hallows: Part 2', 'year': '2011', 'rating': '8.1'}\n",
      "{'rank': '215', 'title': 'Stand by Me', 'year': '1986', 'rating': '8.1'}\n",
      "{'rank': '216', 'title': 'The Handmaiden', 'year': '2016', 'rating': '8.1'}\n",
      "{'rank': '217', 'title': 'Network', 'year': '1976', 'rating': '8.1'}\n",
      "{'rank': '218', 'title': 'Logan', 'year': '2017', 'rating': '8.1'}\n",
      "{'rank': '219', 'title': 'Cool Hand Luke', 'year': '1967', 'rating': '8.1'}\n",
      "{'rank': '220', 'title': 'The 400 Blows', 'year': '1959', 'rating': '8.1'}\n",
      "{'rank': '221', 'title': 'Gangs of Wasseypur', 'year': '2012', 'rating': '8.0'}\n",
      "{'rank': '222', 'title': \"Hachi: A Dog's Tale\", 'year': '2009', 'rating': '8.0'}\n",
      "{'rank': '223', 'title': 'La Haine', 'year': '1995', 'rating': '8.0'}\n",
      "{'rank': '224', 'title': 'Platoon', 'year': '1986', 'rating': '8.0'}\n",
      "{'rank': '225', 'title': 'The Bandit', 'year': '1996', 'rating': '8.0'}\n",
      "{'rank': '226', 'title': 'Spotlight', 'year': '2015', 'rating': '8.0'}\n",
      "{'rank': '227', 'title': 'A Silent Voice: The Movie', 'year': '2016', 'rating': '8.0'}\n",
      "{'rank': '228', 'title': \"Monty Python's Life of Brian\", 'year': '1979', 'rating': '8.0'}\n",
      "{'rank': '229', 'title': 'Rebecca', 'year': '1940', 'rating': '8.0'}\n",
      "{'rank': '230', 'title': '', 'year': '2001', 'rating': '8.0'}\n",
      "{'rank': '231', 'title': 'Hotel Rwanda', 'year': '2004', 'rating': '8.0'}\n",
      "{'rank': '232', 'title': 'In the Mood for Love', 'year': '2000', 'rating': '8.0'}\n",
      "{'rank': '233', 'title': 'Rush', 'year': '2013', 'rating': '8.0'}\n",
      "{'rank': '234', 'title': 'Into the Wild', 'year': '2007', 'rating': '8.0'}\n",
      "{'rank': '235', 'title': \"Love's a Bitch\", 'year': '2000', 'rating': '8.0'}\n",
      "{'rank': '236', 'title': 'Rocky', 'year': '1976', 'rating': '8.0'}\n",
      "{'rank': '237', 'title': 'Andrei Rublev', 'year': '1966', 'rating': '8.0'}\n",
      "{'rank': '238', 'title': 'Nausicaä of the Valley of the Wind', 'year': '1984', 'rating': '8.0'}\n",
      "{'rank': '239', 'title': 'It Happened One Night', 'year': '1934', 'rating': '8.0'}\n",
      "{'rank': '240', 'title': 'Neon Genesis Evangelion: The End of Evangelion', 'year': '1997', 'rating': '8.0'}\n",
      "{'rank': '241', 'title': 'Before Sunset', 'year': '2004', 'rating': '8.0'}\n",
      "{'rank': '242', 'title': 'The Battle of Algiers', 'year': '1966', 'rating': '8.0'}\n",
      "{'rank': '243', 'title': 'Fanny and Alexander', 'year': '1982', 'rating': '8.0'}\n",
      "{'rank': '244', 'title': 'Three Colors: Red', 'year': '1994', 'rating': '8.0'}\n",
      "{'rank': '245', 'title': 'Paris, Texas', 'year': '1984', 'rating': '8.0'}\n",
      "{'rank': '246', 'title': 'Demon Slayer: Mugen Train', 'year': '2020', 'rating': '8.0'}\n",
      "{'rank': '247', 'title': 'The Princess Bride', 'year': '1987', 'rating': '8.0'}\n",
      "{'rank': '248', 'title': 'Nights of Cabiria', 'year': '1957', 'rating': '8.0'}\n",
      "{'rank': '249', 'title': 'Rififi', 'year': '1955', 'rating': '8.0'}\n",
      "{'rank': '250', 'title': 'Raatchasan', 'year': '2018', 'rating': '8.0'}\n"
     ]
    }
   ],
   "source": [
    "with open(\"imdb_top_rated_movies.csv\", \"r\") as file:\n",
    "    csv_dict_reader = csv.DictReader(file)\n",
    "    for row in csv_dict_reader:\n",
    "        print(row)"
   ]
  },
  {
   "cell_type": "markdown",
   "id": "prescribed-retail",
   "metadata": {},
   "source": [
    "副檔名為 json 的純文字檔案，可以用標準模組 `json` 的 `load()` 函數將 json 檔案讀入成為一個字典或者由字典所組合而成的串列。"
   ]
  },
  {
   "cell_type": "code",
   "execution_count": 16,
   "id": "crazy-maldives",
   "metadata": {},
   "outputs": [
    {
     "name": "stdout",
     "output_type": "stream",
     "text": [
      "{'rank': 1, 'title': 'The Shawshank Redemption', 'year': 1994, 'rating': 9.2}\n",
      "{'rank': 2, 'title': 'The Godfather', 'year': 1972, 'rating': 9.1}\n",
      "{'rank': 3, 'title': 'The Godfather: Part II', 'year': 1974, 'rating': 9.0}\n",
      "{'rank': 4, 'title': 'The Dark Knight', 'year': 2008, 'rating': 9.0}\n",
      "{'rank': 5, 'title': '12 Angry Men', 'year': 1957, 'rating': 8.9}\n",
      "{'rank': 6, 'title': \"Schindler's List\", 'year': 1993, 'rating': 8.9}\n",
      "{'rank': 7, 'title': 'The Lord of the Rings: The Return of the King', 'year': 2003, 'rating': 8.9}\n",
      "{'rank': 8, 'title': 'Pulp Fiction', 'year': 1994, 'rating': 8.8}\n",
      "{'rank': 9, 'title': 'The Good, the Bad and the Ugly', 'year': 1966, 'rating': 8.8}\n",
      "{'rank': 10, 'title': 'The Lord of the Rings: The Fellowship of the Ring', 'year': 2001, 'rating': 8.8}\n",
      "{'rank': 11, 'title': 'Fight Club', 'year': 1999, 'rating': 8.8}\n",
      "{'rank': 12, 'title': 'Forrest Gump', 'year': 1994, 'rating': 8.7}\n",
      "{'rank': 13, 'title': 'Inception', 'year': 2010, 'rating': 8.7}\n",
      "{'rank': 14, 'title': 'The Lord of the Rings: The Two Towers', 'year': 2002, 'rating': 8.7}\n",
      "{'rank': 15, 'title': 'Star Wars: Episode V - The Empire Strikes Back', 'year': 1980, 'rating': 8.7}\n",
      "{'rank': 16, 'title': 'The Matrix', 'year': 1999, 'rating': 8.6}\n",
      "{'rank': 17, 'title': 'Goodfellas', 'year': 1990, 'rating': 8.6}\n",
      "{'rank': 18, 'title': \"One Flew Over the Cuckoo's Nest\", 'year': 1975, 'rating': 8.6}\n",
      "{'rank': 19, 'title': 'Seven Samurai', 'year': 1954, 'rating': 8.6}\n",
      "{'rank': 20, 'title': 'Se7en', 'year': 1995, 'rating': 8.6}\n",
      "{'rank': 21, 'title': 'The Silence of the Lambs', 'year': 1991, 'rating': 8.6}\n",
      "{'rank': 22, 'title': 'City of God', 'year': 2002, 'rating': 8.6}\n",
      "{'rank': 23, 'title': 'Life Is Beautiful', 'year': 1997, 'rating': 8.6}\n",
      "{'rank': 24, 'title': \"It's a Wonderful Life\", 'year': 1946, 'rating': 8.6}\n",
      "{'rank': 25, 'title': 'Star Wars: Episode IV - A New Hope', 'year': 1977, 'rating': 8.6}\n",
      "{'rank': 26, 'title': 'Saving Private Ryan', 'year': 1998, 'rating': 8.5}\n",
      "{'rank': 27, 'title': 'Interstellar', 'year': 2014, 'rating': 8.5}\n",
      "{'rank': 28, 'title': 'Spirited Away', 'year': 2001, 'rating': 8.5}\n",
      "{'rank': 29, 'title': 'The Green Mile', 'year': 1999, 'rating': 8.5}\n",
      "{'rank': 30, 'title': 'Parasite', 'year': 2019, 'rating': 8.5}\n",
      "{'rank': 31, 'title': 'Léon: The Professional', 'year': 1994, 'rating': 8.5}\n",
      "{'rank': 32, 'title': 'Hara-Kiri', 'year': 1962, 'rating': 8.5}\n",
      "{'rank': 33, 'title': 'The Pianist', 'year': 2002, 'rating': 8.5}\n",
      "{'rank': 34, 'title': 'The Usual Suspects', 'year': 1995, 'rating': 8.5}\n",
      "{'rank': 35, 'title': 'Terminator 2: Judgment Day', 'year': 1991, 'rating': 8.5}\n",
      "{'rank': 36, 'title': 'Back to the Future', 'year': 1985, 'rating': 8.5}\n",
      "{'rank': 37, 'title': 'Psycho', 'year': 1960, 'rating': 8.5}\n",
      "{'rank': 38, 'title': 'The Lion King', 'year': 1994, 'rating': 8.5}\n",
      "{'rank': 39, 'title': 'Modern Times', 'year': 1936, 'rating': 8.5}\n",
      "{'rank': 40, 'title': 'American History X', 'year': 1998, 'rating': 8.5}\n",
      "{'rank': 41, 'title': 'City Lights', 'year': 1931, 'rating': 8.5}\n",
      "{'rank': 42, 'title': 'Grave of the Fireflies', 'year': 1988, 'rating': 8.5}\n",
      "{'rank': 43, 'title': 'Whiplash', 'year': 2014, 'rating': 8.5}\n",
      "{'rank': 44, 'title': 'Gladiator', 'year': 2000, 'rating': 8.5}\n",
      "{'rank': 45, 'title': 'The Departed', 'year': 2006, 'rating': 8.5}\n",
      "{'rank': 46, 'title': 'The Intouchables', 'year': 2011, 'rating': 8.5}\n",
      "{'rank': 47, 'title': 'The Prestige', 'year': 2006, 'rating': 8.5}\n",
      "{'rank': 48, 'title': 'Casablanca', 'year': 1942, 'rating': 8.4}\n",
      "{'rank': 49, 'title': 'Once Upon a Time in the West', 'year': 1968, 'rating': 8.4}\n",
      "{'rank': 50, 'title': 'Rear Window', 'year': 1954, 'rating': 8.4}\n",
      "{'rank': 51, 'title': 'Cinema Paradiso', 'year': 1988, 'rating': 8.4}\n",
      "{'rank': 52, 'title': 'Alien', 'year': 1979, 'rating': 8.4}\n",
      "{'rank': 53, 'title': 'Apocalypse Now', 'year': 1979, 'rating': 8.4}\n",
      "{'rank': 54, 'title': 'Memento', 'year': 2000, 'rating': 8.4}\n",
      "{'rank': 55, 'title': 'Indiana Jones and the Raiders of the Lost Ark', 'year': 1981, 'rating': 8.4}\n",
      "{'rank': 56, 'title': 'The Great Dictator', 'year': 1940, 'rating': 8.4}\n",
      "{'rank': 57, 'title': 'The Lives of Others', 'year': 2006, 'rating': 8.4}\n",
      "{'rank': 58, 'title': 'Django Unchained', 'year': 2012, 'rating': 8.4}\n",
      "{'rank': 59, 'title': 'Paths of Glory', 'year': 1957, 'rating': 8.4}\n",
      "{'rank': 60, 'title': '', 'year': 1950, 'rating': 8.4}\n",
      "{'rank': 61, 'title': 'WALL·E', 'year': 2008, 'rating': 8.4}\n",
      "{'rank': 62, 'title': 'Avengers: Infinity War', 'year': 2018, 'rating': 8.4}\n",
      "{'rank': 63, 'title': 'The Shining', 'year': 1980, 'rating': 8.4}\n",
      "{'rank': 64, 'title': 'Witness for the Prosecution', 'year': 1957, 'rating': 8.4}\n",
      "{'rank': 65, 'title': 'Spider-Man: Into the Spider-Verse', 'year': 2018, 'rating': 8.4}\n",
      "{'rank': 66, 'title': 'Strangelove or: How I Learned to Stop Worrying and Love the Bomb ', 'year': 1964, 'rating': 8.4}\n",
      "{'rank': 67, 'title': 'Joker', 'year': 2019, 'rating': 8.3}\n",
      "{'rank': 68, 'title': 'Princess Mononoke', 'year': 1997, 'rating': 8.3}\n",
      "{'rank': 69, 'title': 'Oldboy', 'year': 2003, 'rating': 8.3}\n",
      "{'rank': 70, 'title': '', 'year': 2016, 'rating': 8.3}\n",
      "{'rank': 71, 'title': 'The Dark Knight Rises', 'year': 2012, 'rating': 8.3}\n",
      "{'rank': 72, 'title': 'Once Upon a Time in America', 'year': 1984, 'rating': 8.3}\n",
      "{'rank': 73, 'title': 'Coco', 'year': 2017, 'rating': 8.3}\n",
      "{'rank': 74, 'title': 'Aliens', 'year': 1986, 'rating': 8.3}\n",
      "{'rank': 75, 'title': 'Capharnaüm', 'year': 2018, 'rating': 8.3}\n",
      "{'rank': 76, 'title': 'Avengers: Endgame', 'year': 2019, 'rating': 8.3}\n",
      "{'rank': 77, 'title': 'Das Boot', 'year': 1981, 'rating': 8.3}\n",
      "{'rank': 78, 'title': 'Hamilton', 'year': 2020, 'rating': 8.3}\n",
      "{'rank': 79, 'title': 'High and Low', 'year': 1963, 'rating': 8.3}\n",
      "{'rank': 80, 'title': 'American Beauty', 'year': 1999, 'rating': 8.3}\n",
      "{'rank': 81, 'title': 'Toy Story', 'year': 1995, 'rating': 8.3}\n",
      "{'rank': 82, 'title': '3 Idiots', 'year': 2009, 'rating': 8.3}\n",
      "{'rank': 83, 'title': 'Amadeus', 'year': 1984, 'rating': 8.3}\n",
      "{'rank': 84, 'title': 'Braveheart', 'year': 1995, 'rating': 8.3}\n",
      "{'rank': 85, 'title': 'Inglourious Basterds', 'year': 2009, 'rating': 8.3}\n",
      "{'rank': 86, 'title': 'Good Will Hunting', 'year': 1997, 'rating': 8.3}\n",
      "{'rank': 87, 'title': 'Star Wars: Episode VI - Return of the Jedi', 'year': 1983, 'rating': 8.3}\n",
      "{'rank': 88, 'title': '2001: A Space Odyssey', 'year': 1968, 'rating': 8.3}\n",
      "{'rank': 89, 'title': 'Reservoir Dogs', 'year': 1992, 'rating': 8.3}\n",
      "{'rank': 90, 'title': 'M', 'year': 1931, 'rating': 8.3}\n",
      "{'rank': 91, 'title': 'Like Stars on Earth', 'year': 2007, 'rating': 8.3}\n",
      "{'rank': 92, 'title': 'Vertigo', 'year': 1958, 'rating': 8.3}\n",
      "{'rank': 93, 'title': 'Citizen Kane', 'year': 1941, 'rating': 8.3}\n",
      "{'rank': 94, 'title': 'Come and See', 'year': 1985, 'rating': 8.3}\n",
      "{'rank': 95, 'title': 'The Hunt', 'year': 2012, 'rating': 8.3}\n",
      "{'rank': 96, 'title': 'Requiem for a Dream', 'year': 2000, 'rating': 8.3}\n",
      "{'rank': 97, 'title': \"Singin' in the Rain\", 'year': 1952, 'rating': 8.3}\n",
      "{'rank': 98, 'title': 'North by Northwest', 'year': 1959, 'rating': 8.3}\n",
      "{'rank': 99, 'title': 'Eternal Sunshine of the Spotless Mind', 'year': 2004, 'rating': 8.3}\n",
      "{'rank': 100, 'title': 'Bicycle Thieves', 'year': 1948, 'rating': 8.3}\n",
      "{'rank': 101, 'title': 'Ikiru', 'year': 1952, 'rating': 8.3}\n",
      "{'rank': 102, 'title': 'Dune', 'year': 2021, 'rating': 8.3}\n",
      "{'rank': 103, 'title': 'Pather Panchali', 'year': 1955, 'rating': 8.3}\n",
      "{'rank': 104, 'title': 'Lawrence of Arabia', 'year': 1962, 'rating': 8.2}\n",
      "{'rank': 105, 'title': 'The Kid', 'year': 1921, 'rating': 8.2}\n",
      "{'rank': 106, 'title': 'Full Metal Jacket', 'year': 1987, 'rating': 8.2}\n",
      "{'rank': 107, 'title': 'Dangal', 'year': 2016, 'rating': 8.2}\n",
      "{'rank': 108, 'title': 'The Father', 'year': 2020, 'rating': 8.2}\n",
      "{'rank': 109, 'title': 'The Apartment', 'year': 1960, 'rating': 8.2}\n",
      "{'rank': 110, 'title': 'A Clockwork Orange', 'year': 1971, 'rating': 8.2}\n",
      "{'rank': 111, 'title': 'Metropolis', 'year': 1927, 'rating': 8.2}\n",
      "{'rank': 112, 'title': 'Taxi Driver', 'year': 1976, 'rating': 8.2}\n",
      "{'rank': 113, 'title': 'Incendies', 'year': 2010, 'rating': 8.2}\n",
      "{'rank': 114, 'title': 'Double Indemnity', 'year': 1944, 'rating': 8.2}\n",
      "{'rank': 115, 'title': 'The Sting', 'year': 1973, 'rating': 8.2}\n",
      "{'rank': 116, 'title': 'A Separation', 'year': 2011, 'rating': 8.2}\n",
      "{'rank': 117, 'title': 'Scarface', 'year': 1983, 'rating': 8.2}\n",
      "{'rank': 118, 'title': '1917', 'year': 2019, 'rating': 8.2}\n",
      "{'rank': 119, 'title': 'Snatch', 'year': 2000, 'rating': 8.2}\n",
      "{'rank': 120, 'title': 'Amélie', 'year': 2001, 'rating': 8.2}\n",
      "{'rank': 121, 'title': 'Toy Story 3', 'year': 2010, 'rating': 8.2}\n",
      "{'rank': 122, 'title': 'To Kill a Mockingbird', 'year': 1962, 'rating': 8.2}\n",
      "{'rank': 123, 'title': 'For a Few Dollars More', 'year': 1965, 'rating': 8.2}\n",
      "{'rank': 124, 'title': 'Up', 'year': 2009, 'rating': 8.2}\n",
      "{'rank': 125, 'title': 'Indiana Jones and the Last Crusade', 'year': 1989, 'rating': 8.2}\n",
      "{'rank': 126, 'title': 'Confidential ', 'year': 1997, 'rating': 8.2}\n",
      "{'rank': 127, 'title': 'Heat', 'year': 1995, 'rating': 8.2}\n",
      "{'rank': 128, 'title': 'Yojimbo', 'year': 1961, 'rating': 8.2}\n",
      "{'rank': 129, 'title': 'Rashomon', 'year': 1950, 'rating': 8.2}\n",
      "{'rank': 130, 'title': 'Ran', 'year': 1985, 'rating': 8.2}\n",
      "{'rank': 131, 'title': 'Die Hard', 'year': 1988, 'rating': 8.2}\n",
      "{'rank': 132, 'title': 'Green Book', 'year': 2018, 'rating': 8.2}\n",
      "{'rank': 133, 'title': 'Downfall', 'year': 2004, 'rating': 8.2}\n",
      "{'rank': 134, 'title': 'Monty Python and the Holy Grail', 'year': 1975, 'rating': 8.2}\n",
      "{'rank': 135, 'title': 'All About Eve', 'year': 1950, 'rating': 8.2}\n",
      "{'rank': 136, 'title': 'Some Like It Hot', 'year': 1959, 'rating': 8.2}\n",
      "{'rank': 137, 'title': 'Batman Begins', 'year': 2005, 'rating': 8.2}\n",
      "{'rank': 138, 'title': 'Unforgiven', 'year': 1992, 'rating': 8.2}\n",
      "{'rank': 139, 'title': 'Children of Heaven', 'year': 1997, 'rating': 8.2}\n",
      "{'rank': 140, 'title': \"Howl's Moving Castle\", 'year': 2004, 'rating': 8.2}\n",
      "{'rank': 141, 'title': 'The Wolf of Wall Street', 'year': 2013, 'rating': 8.2}\n",
      "{'rank': 142, 'title': 'Judgment at Nuremberg', 'year': 1961, 'rating': 8.2}\n",
      "{'rank': 143, 'title': 'The Great Escape', 'year': 1963, 'rating': 8.2}\n",
      "{'rank': 144, 'title': 'Casino', 'year': 1995, 'rating': 8.2}\n",
      "{'rank': 145, 'title': 'There Will Be Blood', 'year': 2007, 'rating': 8.2}\n",
      "{'rank': 146, 'title': 'The Treasure of the Sierra Madre', 'year': 1948, 'rating': 8.2}\n",
      "{'rank': 147, 'title': \"Pan's Labyrinth\", 'year': 2006, 'rating': 8.1}\n",
      "{'rank': 148, 'title': 'A Beautiful Mind', 'year': 2001, 'rating': 8.1}\n",
      "{'rank': 149, 'title': 'The Secret in Their Eyes', 'year': 2009, 'rating': 8.1}\n",
      "{'rank': 150, 'title': 'Raging Bull', 'year': 1980, 'rating': 8.1}\n",
      "{'rank': 151, 'title': 'My Neighbor Totoro', 'year': 1988, 'rating': 8.1}\n",
      "{'rank': 152, 'title': 'Chinatown', 'year': 1974, 'rating': 8.1}\n",
      "{'rank': 153, 'title': 'Lock, Stock and Two Smoking Barrels', 'year': 1998, 'rating': 8.1}\n",
      "{'rank': 154, 'title': 'The Gold Rush', 'year': 1925, 'rating': 8.1}\n",
      "{'rank': 155, 'title': 'Shutter Island', 'year': 2010, 'rating': 8.1}\n",
      "{'rank': 156, 'title': 'No Country for Old Men', 'year': 2007, 'rating': 8.1}\n",
      "{'rank': 157, 'title': 'Dial M for Murder', 'year': 1954, 'rating': 8.1}\n",
      "{'rank': 158, 'title': 'The Seventh Seal', 'year': 1957, 'rating': 8.1}\n",
      "{'rank': 159, 'title': 'Three Billboards Outside Ebbing, Missouri', 'year': 2017, 'rating': 8.1}\n",
      "{'rank': 160, 'title': 'The Elephant Man', 'year': 1980, 'rating': 8.1}\n",
      "{'rank': 161, 'title': 'The Thing', 'year': 1982, 'rating': 8.1}\n",
      "{'rank': 162, 'title': 'The Sixth Sense', 'year': 1999, 'rating': 8.1}\n",
      "{'rank': 163, 'title': 'Klaus', 'year': 2019, 'rating': 8.1}\n",
      "{'rank': 164, 'title': 'The Third Man', 'year': 1949, 'rating': 8.1}\n",
      "{'rank': 165, 'title': 'Wild Strawberries', 'year': 1957, 'rating': 8.1}\n",
      "{'rank': 166, 'title': 'V for Vendetta', 'year': 2005, 'rating': 8.1}\n",
      "{'rank': 167, 'title': 'Jurassic Park', 'year': 1993, 'rating': 8.1}\n",
      "{'rank': 168, 'title': 'The Truman Show', 'year': 1998, 'rating': 8.1}\n",
      "{'rank': 169, 'title': 'Inside Out', 'year': 2015, 'rating': 8.1}\n",
      "{'rank': 170, 'title': 'Memories of Murder', 'year': 2003, 'rating': 8.1}\n",
      "{'rank': 171, 'title': 'Blade Runner', 'year': 1982, 'rating': 8.1}\n",
      "{'rank': 172, 'title': 'Trainspotting', 'year': 1996, 'rating': 8.1}\n",
      "{'rank': 173, 'title': 'The Bridge on the River Kwai', 'year': 1957, 'rating': 8.1}\n",
      "{'rank': 174, 'title': 'Fargo', 'year': 1996, 'rating': 8.1}\n",
      "{'rank': 175, 'title': 'Warrior', 'year': 2011, 'rating': 8.1}\n",
      "{'rank': 176, 'title': 'Finding Nemo', 'year': 2003, 'rating': 8.1}\n",
      "{'rank': 177, 'title': '1 ', 'year': 2003, 'rating': 8.1}\n",
      "{'rank': 178, 'title': 'Gone with the Wind', 'year': 1939, 'rating': 8.1}\n",
      "{'rank': 179, 'title': 'Z', 'year': 1969, 'rating': 8.1}\n",
      "{'rank': 180, 'title': 'Tokyo Story', 'year': 1953, 'rating': 8.1}\n",
      "{'rank': 181, 'title': 'My Father and My Son', 'year': 2005, 'rating': 8.1}\n",
      "{'rank': 182, 'title': 'On the Waterfront', 'year': 1954, 'rating': 8.1}\n",
      "{'rank': 183, 'title': 'Stalker', 'year': 1979, 'rating': 8.1}\n",
      "{'rank': 184, 'title': 'Wild Tales', 'year': 2014, 'rating': 8.1}\n",
      "{'rank': 185, 'title': '', 'year': 1924, 'rating': 8.1}\n",
      "{'rank': 186, 'title': 'The General', 'year': 1926, 'rating': 8.1}\n",
      "{'rank': 187, 'title': 'The Deer Hunter', 'year': 1978, 'rating': 8.1}\n",
      "{'rank': 188, 'title': 'Gran Torino', 'year': 2008, 'rating': 8.1}\n",
      "{'rank': 189, 'title': 'Persona', 'year': 1966, 'rating': 8.1}\n",
      "{'rank': 190, 'title': 'The Grand Budapest Hotel', 'year': 2014, 'rating': 8.1}\n",
      "{'rank': 191, 'title': 'Prisoners', 'year': 2013, 'rating': 8.1}\n",
      "{'rank': 192, 'title': 'Before Sunrise', 'year': 1995, 'rating': 8.1}\n",
      "{'rank': 193, 'title': 'Mary and Max', 'year': 2009, 'rating': 8.1}\n",
      "{'rank': 194, 'title': 'Smith Goes to Washington ', 'year': 1939, 'rating': 8.1}\n",
      "{'rank': 195, 'title': 'Room', 'year': 2015, 'rating': 8.1}\n",
      "{'rank': 196, 'title': 'In the Name of the Father', 'year': 1993, 'rating': 8.1}\n",
      "{'rank': 197, 'title': 'Catch Me If You Can', 'year': 2002, 'rating': 8.1}\n",
      "{'rank': 198, 'title': 'Barry Lyndon', 'year': 1975, 'rating': 8.1}\n",
      "{'rank': 199, 'title': 'Gone Girl', 'year': 2014, 'rating': 8.1}\n",
      "{'rank': 200, 'title': 'Hacksaw Ridge', 'year': 2016, 'rating': 8.1}\n",
      "{'rank': 201, 'title': 'Andhadhun', 'year': 2018, 'rating': 8.1}\n",
      "{'rank': 202, 'title': 'The Passion of Joan of Arc', 'year': 1928, 'rating': 8.1}\n",
      "{'rank': 203, 'title': 'To Be or Not to Be', 'year': 1942, 'rating': 8.1}\n",
      "{'rank': 204, 'title': 'Ford v Ferrari', 'year': 2019, 'rating': 8.1}\n",
      "{'rank': 205, 'title': '12 Years a Slave', 'year': 2013, 'rating': 8.1}\n",
      "{'rank': 206, 'title': 'The Big Lebowski', 'year': 1998, 'rating': 8.1}\n",
      "{'rank': 207, 'title': 'How to Train Your Dragon', 'year': 2010, 'rating': 8.1}\n",
      "{'rank': 208, 'title': 'Mad Max: Fury Road', 'year': 2015, 'rating': 8.1}\n",
      "{'rank': 209, 'title': 'Dead Poets Society', 'year': 1989, 'rating': 8.1}\n",
      "{'rank': 210, 'title': 'Autumn Sonata', 'year': 1978, 'rating': 8.1}\n",
      "{'rank': 211, 'title': 'Ben-Hur', 'year': 1959, 'rating': 8.1}\n",
      "{'rank': 212, 'title': 'Million Dollar Baby', 'year': 2004, 'rating': 8.1}\n",
      "{'rank': 213, 'title': 'The Wages of Fear', 'year': 1953, 'rating': 8.1}\n",
      "{'rank': 214, 'title': 'Harry Potter and the Deathly Hallows: Part 2', 'year': 2011, 'rating': 8.1}\n",
      "{'rank': 215, 'title': 'Stand by Me', 'year': 1986, 'rating': 8.1}\n",
      "{'rank': 216, 'title': 'The Handmaiden', 'year': 2016, 'rating': 8.1}\n",
      "{'rank': 217, 'title': 'Network', 'year': 1976, 'rating': 8.1}\n",
      "{'rank': 218, 'title': 'Logan', 'year': 2017, 'rating': 8.1}\n",
      "{'rank': 219, 'title': 'Cool Hand Luke', 'year': 1967, 'rating': 8.1}\n",
      "{'rank': 220, 'title': 'The 400 Blows', 'year': 1959, 'rating': 8.1}\n",
      "{'rank': 221, 'title': 'Gangs of Wasseypur', 'year': 2012, 'rating': 8.0}\n",
      "{'rank': 222, 'title': \"Hachi: A Dog's Tale\", 'year': 2009, 'rating': 8.0}\n",
      "{'rank': 223, 'title': 'La Haine', 'year': 1995, 'rating': 8.0}\n",
      "{'rank': 224, 'title': 'Platoon', 'year': 1986, 'rating': 8.0}\n",
      "{'rank': 225, 'title': 'The Bandit', 'year': 1996, 'rating': 8.0}\n",
      "{'rank': 226, 'title': 'Spotlight', 'year': 2015, 'rating': 8.0}\n",
      "{'rank': 227, 'title': 'A Silent Voice: The Movie', 'year': 2016, 'rating': 8.0}\n",
      "{'rank': 228, 'title': \"Monty Python's Life of Brian\", 'year': 1979, 'rating': 8.0}\n",
      "{'rank': 229, 'title': 'Rebecca', 'year': 1940, 'rating': 8.0}\n",
      "{'rank': 230, 'title': '', 'year': 2001, 'rating': 8.0}\n",
      "{'rank': 231, 'title': 'Hotel Rwanda', 'year': 2004, 'rating': 8.0}\n",
      "{'rank': 232, 'title': 'In the Mood for Love', 'year': 2000, 'rating': 8.0}\n",
      "{'rank': 233, 'title': 'Rush', 'year': 2013, 'rating': 8.0}\n",
      "{'rank': 234, 'title': 'Into the Wild', 'year': 2007, 'rating': 8.0}\n",
      "{'rank': 235, 'title': \"Love's a Bitch\", 'year': 2000, 'rating': 8.0}\n",
      "{'rank': 236, 'title': 'Rocky', 'year': 1976, 'rating': 8.0}\n",
      "{'rank': 237, 'title': 'Andrei Rublev', 'year': 1966, 'rating': 8.0}\n",
      "{'rank': 238, 'title': 'Nausicaä of the Valley of the Wind', 'year': 1984, 'rating': 8.0}\n",
      "{'rank': 239, 'title': 'It Happened One Night', 'year': 1934, 'rating': 8.0}\n",
      "{'rank': 240, 'title': 'Neon Genesis Evangelion: The End of Evangelion', 'year': 1997, 'rating': 8.0}\n",
      "{'rank': 241, 'title': 'Before Sunset', 'year': 2004, 'rating': 8.0}\n",
      "{'rank': 242, 'title': 'The Battle of Algiers', 'year': 1966, 'rating': 8.0}\n",
      "{'rank': 243, 'title': 'Fanny and Alexander', 'year': 1982, 'rating': 8.0}\n",
      "{'rank': 244, 'title': 'Three Colors: Red', 'year': 1994, 'rating': 8.0}\n",
      "{'rank': 245, 'title': 'Paris, Texas', 'year': 1984, 'rating': 8.0}\n",
      "{'rank': 246, 'title': 'Demon Slayer: Mugen Train', 'year': 2020, 'rating': 8.0}\n",
      "{'rank': 247, 'title': 'The Princess Bride', 'year': 1987, 'rating': 8.0}\n",
      "{'rank': 248, 'title': 'Nights of Cabiria', 'year': 1957, 'rating': 8.0}\n",
      "{'rank': 249, 'title': 'Rififi', 'year': 1955, 'rating': 8.0}\n",
      "{'rank': 250, 'title': 'Raatchasan', 'year': 2018, 'rating': 8.0}\n"
     ]
    }
   ],
   "source": [
    "with open(\"imdb_top_rated_movies.json\", \"r\") as file:\n",
    "    list_of_dicts = json.load(file)\n",
    "for row in list_of_dicts:\n",
    "    print(row)"
   ]
  },
  {
   "cell_type": "markdown",
   "id": "behind-street",
   "metadata": {},
   "source": [
    "在認識了 Comprehensions、生成器、具有生成器特性的內建函數以及讀取檔案等技巧之後，約維安計畫：第十九週來到尾聲，希望您也和我一樣期待下一篇文章。\n",
    "\n",
    "## 延伸閱讀\n",
    "\n",
    "- https://docs.python.org/3/tutorial/datastructures.html#list-comprehensions\n",
    "- https://docs.python.org/3/library/csv.html\n",
    "- https://docs.python.org/3/library/json.html"
   ]
  }
 ],
 "metadata": {
  "kernelspec": {
   "display_name": "Python 3",
   "language": "python",
   "name": "python3"
  },
  "language_info": {
   "codemirror_mode": {
    "name": "ipython",
    "version": 3
   },
   "file_extension": ".py",
   "mimetype": "text/x-python",
   "name": "python",
   "nbconvert_exporter": "python",
   "pygments_lexer": "ipython3",
   "version": "3.8.5"
  }
 },
 "nbformat": 4,
 "nbformat_minor": 5
}
